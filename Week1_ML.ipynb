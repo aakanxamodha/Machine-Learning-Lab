{
 "cells": [
  {
   "cell_type": "code",
   "execution_count": 1,
   "id": "d6672041-12ce-4c00-88ef-ae9ae34f99b5",
   "metadata": {},
   "outputs": [
    {
     "name": "stdin",
     "output_type": "stream",
     "text": [
      "Enter length:  12\n",
      "Enter width:  120\n"
     ]
    },
    {
     "name": "stdout",
     "output_type": "stream",
     "text": [
      "Area Acers:  0.03305785123966942\n"
     ]
    }
   ],
   "source": [
    "'''\n",
    "1) Create a program that reads the length and width of a farmer’s field from the user in feet. Display the area of the field in acres. \n",
    "Hint: There are 43,560 square feet in an acre\n",
    "\n",
    "'''\n",
    "sqft = 43560\n",
    "\n",
    "length = float(input(\"Enter length: \"))\n",
    "width = float(input(\"Enter width: \"))\n",
    "area_sqft = length * width\n",
    "area_arc = area_sqft/sqft\n",
    "\n",
    "print(\"Area Acers: \", area_arc)"
   ]
  },
  {
   "cell_type": "code",
   "execution_count": 2,
   "id": "2737d48c-c803-4006-b426-8dac8b57b104",
   "metadata": {},
   "outputs": [
    {
     "name": "stdin",
     "output_type": "stream",
     "text": [
      "Enter length:  10\n",
      "Enter width:  15\n"
     ]
    },
    {
     "name": "stdout",
     "output_type": "stream",
     "text": [
      "Area:  150.0\n"
     ]
    }
   ],
   "source": [
    "'''\n",
    "2) Write a program that asks the user to enter the width and length of a room. Once the values have \n",
    "been read, your program should compute and display the area of the room. The length and the \n",
    "width will be entered as floating point numbers. Include units in your prompt and output message; \n",
    "either feet or meters, depending on which unit you are more comfortable working with.\n",
    "\n",
    "'''\n",
    "length = float(input(\"Enter length: \"))\n",
    "width = float(input(\"Enter width: \"))\n",
    "area = length * width\n",
    "\n",
    "print(\"Area: \", area)"
   ]
  },
  {
   "cell_type": "code",
   "execution_count": 3,
   "id": "fa6106b4-be2a-41f7-bf6e-49380ec0463b",
   "metadata": {},
   "outputs": [
    {
     "name": "stdout",
     "output_type": "stream",
     "text": [
      "Current time and date:  Thu Sep 12 22:28:56 2024\n"
     ]
    }
   ],
   "source": [
    "'''\n",
    "3) Python includes a library of functions for working with time, including a function called asctime \n",
    "in the time module. It reads the current time from the computer’s internal clock and returns it in a \n",
    "human-readable format. Write a program that displays the current time and date. Your program \n",
    "will not require any input from the user. \n",
    "\n",
    "'''\n",
    "import time\n",
    "\n",
    "curr_time = time.asctime()\n",
    "print(\"Current time and date: \", curr_time)"
   ]
  },
  {
   "cell_type": "code",
   "execution_count": 4,
   "id": "c9cc7bf2-1584-4218-b658-ca1c4e311f8f",
   "metadata": {},
   "outputs": [
    {
     "name": "stdout",
     "output_type": "stream",
     "text": [
      "Sorted:  [6, 9, 10, 11, 12, 13, 14, 15, 16, 18]\n",
      "Min:  6\n",
      "Max:  18\n",
      "Median:  13\n",
      "Q1:  10\n",
      "Q3:  15\n",
      "IQR:  5\n",
      "Outliers:  No outliers.\n"
     ]
    }
   ],
   "source": [
    "'''\n",
    "4) Create a program that reads the following10 data values (integers) and displays them in sorted \n",
    "order (from smallest to largest). Use the min and max functions to find the smallest and largest \n",
    "values. Also compute the 5 number summary for the data. Find the IQR value. Also find the \n",
    "outliers if any.  \n",
    "Data: 16, 09, 14, 11, 13, 06, 18, 15, 10, 12.\n",
    "\n",
    "'''\n",
    "data = [16, 9, 14, 11, 13, 6, 18, 15, 10, 12]\n",
    "\n",
    "data.sort()\n",
    "min_val = min(data)\n",
    "max_val = max(data)\n",
    "median_val = data[len(data) // 2]\n",
    "\n",
    "q1 = data[len(data) // 4]\n",
    "q3 = data[len(data)*3 // 4]\n",
    "iqr = q3 - q1\n",
    "lower = q1 - 1.5 * iqr\n",
    "upper = q3 + 1.5 * iqr\n",
    "outliers = [x for x in data if x < lower or x > upper]\n",
    "\n",
    "print(\"Sorted: \", data)\n",
    "print(\"Min: \", min_val)\n",
    "print(\"Max: \", max_val)\n",
    "print(\"Median: \", median_val)\n",
    "print(\"Q1: \", q1)\n",
    "print(\"Q3: \", q3)\n",
    "print(\"IQR: \", iqr)\n",
    "print(\"Outliers: \", outliers if outliers else \"No outliers.\")"
   ]
  },
  {
   "cell_type": "code",
   "execution_count": 5,
   "id": "130b21eb-1812-4ba7-b978-9df5ab4a3e7d",
   "metadata": {},
   "outputs": [
    {
     "name": "stdin",
     "output_type": "stream",
     "text": [
      "Enter alphabet:  y\n"
     ]
    },
    {
     "name": "stdout",
     "output_type": "stream",
     "text": [
      "Sometimes vowel, sometimes consonant.\n"
     ]
    }
   ],
   "source": [
    "'''\n",
    "5) Create a program that reads a letter of the alphabet from the user. If the user enters a, e, i, o or \n",
    "u then your program should display a message indicating that the entered letter is a vowel. If the \n",
    "user enters y then your program should display a message indicating that sometimes y is a vowel, \n",
    "and sometimes y is a consonant. Otherwise your program should display a message indicating that \n",
    "the letter is a consonant. \n",
    "\n",
    "'''\n",
    "alpha = input(\"Enter alphabet: \").lower()\n",
    "\n",
    "if alpha in 'aeiou':\n",
    "    print(\"Vowel\")\n",
    "elif alpha == 'y':\n",
    "    print(\"Sometimes vowel, sometimes consonant.\")\n",
    "else:\n",
    "    print(\"Consonant\")"
   ]
  },
  {
   "cell_type": "code",
   "execution_count": 6,
   "id": "48e12b8c-dad1-4551-81ce-d378a7620f72",
   "metadata": {},
   "outputs": [
    {
     "name": "stdin",
     "output_type": "stream",
     "text": [
      "Enter the sound level in decibels:  121\n"
     ]
    },
    {
     "name": "stdout",
     "output_type": "stream",
     "text": [
      "Quieter than a quiet room.\n"
     ]
    }
   ],
   "source": [
    "'''\n",
    "6) The following table lists the sound level in decibels for several common noises.\n",
    "\n",
    "Noise         Decibel level(dB)\n",
    "------------  --------------------\n",
    "Jackhammer       130\n",
    "Gas lawnmower    106\n",
    "Alarm clock       70\n",
    "Quiet room        40\n",
    "\n",
    "Write a program that reads a sound level in decibels from the user. If the user enters a decibel level \n",
    "that matches one of the noises in the table then your program should display a message containing \n",
    "only that noise. If the user enters a number of decibels between the noises listed then your program \n",
    "should display a message indicating which noises the level is between. Ensure that your program \n",
    "also generates reasonable output for a value smaller than the quietest noise in the table, and for a \n",
    "value larger than the loudest noise in the table.\n",
    "\n",
    "'''\n",
    "\n",
    "n_level = {\n",
    "    130: \"Jackhammer\",\n",
    "    106: \"Gas lawnmower\",\n",
    "    70: \"Alarm clock\",\n",
    "    40: \"Quiet room\"\n",
    "}\n",
    "\n",
    "d_level = int(input(\"Enter the sound level in decibels: \"))\n",
    "\n",
    "if d_level in n_level:\n",
    "    print(\"The noise level: \", n_level[d_level]);\n",
    "else:\n",
    "    if d_level > 130:\n",
    "        print(\"Louder than a Jackhammer.\");\n",
    "    elif 160 < d_level < 130:\n",
    "        print(\"Between Gas lawnmower and Jackhammer.\");\n",
    "    elif 70 < d_level < 106:\n",
    "        print(\"Between alarm clock and gas lawnmower.\");\n",
    "    elif 40 < d_level < 70:\n",
    "        print(\"Between quiet room and alarm clock.\");\n",
    "    else:\n",
    "        print(\"Quieter than a quiet room.\");"
   ]
  },
  {
   "cell_type": "code",
   "execution_count": 7,
   "id": "ef2f9221-7dfd-44e8-80b5-2bf13b02b87f",
   "metadata": {},
   "outputs": [
    {
     "name": "stdout",
     "output_type": "stream",
     "text": [
      "Mean of original marks:  35.6\n",
      "Mean when 2 is added to each mark:  37.6\n",
      "Mean when 1 is substracted from each mark:  34.6\n",
      "Mean when marks are half:  17.8\n"
     ]
    }
   ],
   "source": [
    "'''\n",
    "7) The marks obtained by 10 students in a class test were as follows: \n",
    "38, 41, 36, 31, 45, 38, 27, 32, 29, 39 \n",
    "Find: \n",
    "(a) The mean of their marks \n",
    "(b) The mean of their marks when the marks of each student are increased by 2 \n",
    "(c) The mean of their marks when one mark is deducted from marks of each student \n",
    "(d) The mean of their marks when the marks of each student halved \n",
    "\n",
    "'''\n",
    "marks = [38, 41, 36, 31, 45, 38, 27, 32, 29, 39]\n",
    "\n",
    "originalM = sum(marks) / len(marks)\n",
    "print(\"Mean of original marks: \", originalM)\n",
    "\n",
    "addedMarks = [mark + 2 for mark in marks]\n",
    "addedM = sum(addedMarks) / len(addedMarks)\n",
    "print(\"Mean when 2 is added to each mark: \", addedM)\n",
    "\n",
    "subMarks = [mark - 1 for mark in marks]\n",
    "subM = sum(subMarks) / len(subMarks)\n",
    "print(\"Mean when 1 is substracted from each mark: \", subM)\n",
    "\n",
    "halfMarks = [mark / 2 for mark in marks]\n",
    "halfM = sum(halfMarks) / len(halfMarks)\n",
    "print(\"Mean when marks are half: \", halfM);"
   ]
  },
  {
   "cell_type": "code",
   "execution_count": 8,
   "id": "abfee106-ad81-4dbf-b537-9f06a83e596c",
   "metadata": {},
   "outputs": [
    {
     "name": "stdin",
     "output_type": "stream",
     "text": [
      "Enter at least 4 numbers:  63 84 12 0 78 9 76 29 93\n"
     ]
    },
    {
     "name": "stdout",
     "output_type": "stream",
     "text": [
      "Original list:  [63, 84, 12, 0, 78, 9, 76, 29, 93]\n",
      "Updated list:  [12, 29, 63, 76, 78]\n"
     ]
    }
   ],
   "source": [
    "'''\n",
    "8) When analysing data collected as part of a science experiment it may be desirable to remove \n",
    "the most extreme values before performing other calculations. Write a function that takes a list of \n",
    "values and an non-negative integer, n, as its parameters. The function should create a new copy of \n",
    "the list with the n largest elements and the n smallest elements removed. Then it should return the \n",
    "new copy of the list as the function’s only result. The order of the elements in the returned list does \n",
    "not have to match the order of the elements in the original list. \n",
    "\n",
    "Your function should read a list of numbers from the user and remove the two largest and two \n",
    "smallest values from it. Display the list with the outliers removed, followed by the original list. \n",
    "Your program should generate an appropriate error message if the user enters less than 4 values.\n",
    "\n",
    "'''\n",
    "\n",
    "def remove_outliers(data, n):\n",
    "    sorted_data = sorted(data)\n",
    "    trimmed_data = sorted_data[n:len(sorted_data)-n]\n",
    "    return trimmed_data\n",
    "\n",
    "numbers = input(\"Enter at least 4 numbers: \").split()\n",
    "numbers = [int(num) for num in numbers]\n",
    "\n",
    "if len(numbers) < 4:\n",
    "    print(\"Enter at least 4 numbers!\")\n",
    "else:\n",
    "    result = remove_outliers(numbers, 2)\n",
    "    print(\"Original list: \", numbers)\n",
    "    print(\"Updated list: \", result)"
   ]
  }
 ],
 "metadata": {
  "kernelspec": {
   "display_name": "Python 3 (ipykernel)",
   "language": "python",
   "name": "python3"
  },
  "language_info": {
   "codemirror_mode": {
    "name": "ipython",
    "version": 3
   },
   "file_extension": ".py",
   "mimetype": "text/x-python",
   "name": "python",
   "nbconvert_exporter": "python",
   "pygments_lexer": "ipython3",
   "version": "3.12.5"
  }
 },
 "nbformat": 4,
 "nbformat_minor": 5
}
