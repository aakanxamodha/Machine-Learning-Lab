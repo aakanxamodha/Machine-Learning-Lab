{
 "cells": [
  {
   "cell_type": "code",
   "execution_count": 1,
   "id": "fe6307f4-cf00-4154-b3f7-e42f4fa9458b",
   "metadata": {},
   "outputs": [
    {
     "name": "stdout",
     "output_type": "stream",
     "text": [
      "Missing and null values handled. Cleaned datasets saved as 'diabetes_cleaned.csv' and 'cancer_cleaned.csv'.\n"
     ]
    }
   ],
   "source": [
    "'''\n",
    "Q.1) With given data sets apply the concept of handling missing and null values using the built-in functions of Python library. \n",
    "\n",
    "'''\n",
    "import pandas as pd\n",
    "\n",
    "diabetes_df = pd.read_csv('diabetes.csv')\n",
    "cancer_df = pd.read_csv('cancer.csv')\n",
    "\n",
    "columns_to_replace = ['Glucose', 'BloodPressure', 'SkinThickness', 'Insulin', 'BMI']\n",
    "for column in columns_to_replace:\n",
    "    diabetes_df[column] = diabetes_df[column].replace(0, diabetes_df[column].median())\n",
    "\n",
    "cancer_df_cleaned = cancer_df.drop(columns=['Unnamed: 32'])\n",
    "\n",
    "diabetes_df.to_csv('diabetes_cleaned.csv', index=False)\n",
    "cancer_df_cleaned.to_csv('cancer_cleaned.csv', index=False)\n",
    "\n",
    "print(\"Missing and null values handled. Cleaned datasets saved as 'diabetes_cleaned.csv' and 'cancer_cleaned.csv'.\")"
   ]
  },
  {
   "cell_type": "code",
   "execution_count": 2,
   "id": "b3d43172-96bf-4b5c-9acb-59640e2ceec6",
   "metadata": {},
   "outputs": [
    {
     "name": "stdout",
     "output_type": "stream",
     "text": [
      "Diabetes Dataset Information: {'Purpose': 'Diabetes Classification', 'Dimensions': (768, 9), 'Column Names and Data Types': {'Pregnancies': dtype('int64'), 'Glucose': dtype('int64'), 'BloodPressure': dtype('int64'), 'SkinThickness': dtype('int64'), 'Insulin': dtype('int64'), 'BMI': dtype('float64'), 'DiabetesPedigreeFunction': dtype('float64'), 'Age': dtype('int64'), 'Outcome': dtype('int64')}}\n",
      "Cancer Dataset Information: {'Purpose': 'Cancer Classification', 'Dimensions': (569, 33), 'Column Names and Data Types': {'id': dtype('int64'), 'diagnosis': dtype('O'), 'radius_mean': dtype('float64'), 'texture_mean': dtype('float64'), 'perimeter_mean': dtype('float64'), 'area_mean': dtype('float64'), 'smoothness_mean': dtype('float64'), 'compactness_mean': dtype('float64'), 'concavity_mean': dtype('float64'), 'concave points_mean': dtype('float64'), 'symmetry_mean': dtype('float64'), 'fractal_dimension_mean': dtype('float64'), 'radius_se': dtype('float64'), 'texture_se': dtype('float64'), 'perimeter_se': dtype('float64'), 'area_se': dtype('float64'), 'smoothness_se': dtype('float64'), 'compactness_se': dtype('float64'), 'concavity_se': dtype('float64'), 'concave points_se': dtype('float64'), 'symmetry_se': dtype('float64'), 'fractal_dimension_se': dtype('float64'), 'radius_worst': dtype('float64'), 'texture_worst': dtype('float64'), 'perimeter_worst': dtype('float64'), 'area_worst': dtype('float64'), 'smoothness_worst': dtype('float64'), 'compactness_worst': dtype('float64'), 'concavity_worst': dtype('float64'), 'concave points_worst': dtype('float64'), 'symmetry_worst': dtype('float64'), 'fractal_dimension_worst': dtype('float64'), 'Unnamed: 32': dtype('float64')}}\n"
     ]
    }
   ],
   "source": [
    "'''\n",
    "Q.2) With given data sets apply the Naïve Bayes Classifier for the given data sets. \n",
    "(i) Tabulate the following information regarding each data set: \n",
    "(a) Purpose of the data sets. \n",
    "(b) Dimensions of the data sets. \n",
    "(c) Column Names and data types of the data sets. \n",
    "(ii) Use the train_test-split function of python to split the given data sets using the following  \n",
    "test_size values: {0.3, 0.4, 0.5}. \n",
    "(iv) Keep the maximum epochs value = 10. \n",
    "(v) Tabulate the following in an excel sheet the outputs according the above combinations. \n",
    "(vi) Display the classification report and confusion matrices of each combination of the above  \n",
    "parameters.\n",
    "\n",
    "'''\n",
    "import pandas as pd\n",
    "from sklearn.model_selection import train_test_split\n",
    "from sklearn.naive_bayes import GaussianNB\n",
    "from sklearn.metrics import classification_report, confusion_matrix\n",
    "\n",
    "diabetes_df = pd.read_csv('diabetes.csv')\n",
    "cancer_df = pd.read_csv('cancer.csv')\n",
    "\n",
    "def tabulate_info(df):\n",
    "    info = {\n",
    "        'Purpose': 'Diabetes Classification' if 'Outcome' in df.columns else 'Cancer Classification',\n",
    "        'Dimensions': df.shape,\n",
    "        'Column Names and Data Types': df.dtypes.to_dict()\n",
    "    }\n",
    "    return info\n",
    "\n",
    "diabetes_info = tabulate_info(diabetes_df)\n",
    "cancer_info = tabulate_info(cancer_df)\n",
    "\n",
    "diabetes_info_df = pd.DataFrame([diabetes_info])\n",
    "cancer_info_df = pd.DataFrame([cancer_info])\n",
    "\n",
    "test_sizes = [0.3, 0.4, 0.5]\n",
    "\n",
    "def process_dataset(df, target_column, dataset_name, exclude_columns):\n",
    "    results = []\n",
    "\n",
    "    for test_size in test_sizes:\n",
    "        X = df.drop(columns=[target_column] + exclude_columns)\n",
    "        y = df[target_column]\n",
    "        \n",
    "        X_train, X_test, y_train, y_test = train_test_split(X, y, test_size=test_size, random_state=42)\n",
    "        \n",
    "        model = GaussianNB()\n",
    "        model.fit(X_train, y_train)\n",
    "        \n",
    "        y_pred = model.predict(X_test)\n",
    "        \n",
    "        report = classification_report(y_test, y_pred, output_dict=True)\n",
    "        conf_matrix = confusion_matrix(y_test, y_pred)\n",
    "        \n",
    "        results.append({\n",
    "            'Test Size': test_size,\n",
    "            'Classification Report': str(report),\n",
    "            'Confusion Matrix': str(conf_matrix)\n",
    "        })\n",
    "    \n",
    "    results_df = pd.DataFrame(results)\n",
    "    results_df.to_csv(f'{dataset_name}_results.csv', index=False)\n",
    "\n",
    "diabetes_info_df.to_csv('diabetes_info.csv', index=False)\n",
    "cancer_info_df.to_csv('cancer_info.csv', index=False)\n",
    "\n",
    "process_dataset(diabetes_df, 'Outcome', 'diabetes', [])\n",
    "process_dataset(cancer_df, 'diagnosis', 'cancer', ['id', 'Unnamed: 32'])\n",
    "\n",
    "print(\"Diabetes Dataset Information:\", diabetes_info)\n",
    "print(\"Cancer Dataset Information:\", cancer_info)"
   ]
  },
  {
   "cell_type": "code",
   "execution_count": null,
   "id": "66632116-ed98-486d-bb0f-389d77fb86f0",
   "metadata": {},
   "outputs": [],
   "source": []
  }
 ],
 "metadata": {
  "kernelspec": {
   "display_name": "Python 3 (ipykernel)",
   "language": "python",
   "name": "python3"
  },
  "language_info": {
   "codemirror_mode": {
    "name": "ipython",
    "version": 3
   },
   "file_extension": ".py",
   "mimetype": "text/x-python",
   "name": "python",
   "nbconvert_exporter": "python",
   "pygments_lexer": "ipython3",
   "version": "3.12.5"
  }
 },
 "nbformat": 4,
 "nbformat_minor": 5
}
